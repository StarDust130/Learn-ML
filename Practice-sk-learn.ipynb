{
 "cells": [
  {
   "cell_type": "markdown",
   "id": "ffc61c94-dfb5-42bf-b312-229387bde302",
   "metadata": {},
   "source": [
    "## 🌏 Step to do in sk learn\n",
    "\n",
    "#### 1️⃣ Get the data ready 📂\n",
    "Load your dataset, split into X (features) and y (labels/answers).\n",
    "\n",
    "#### 2️⃣ Pick the right model 🎯\n",
    "Choose the algorithm that fits your problem (classification, regression, clustering, etc.).\n",
    "\n",
    "#### 3️⃣ Train the model 🏋️‍♂️\n",
    "Feed your X and y to the model so it learns patterns.\n",
    "\n",
    "#### 4️⃣ Test the model 🧪\n",
    "Check how well it predicts using test data.\n",
    "\n",
    "#### 5️⃣ Make it better 🚀\n",
    "Tune settings (hyperparameters), try different algorithms, or get better data.\n",
    "\n",
    "#### 6️⃣ Save it 💾\n",
    "Store the trained model so you can use it later without retraining.\n",
    "\n"
   ]
  },
  {
   "cell_type": "code",
   "execution_count": 1,
   "id": "ee816495-d020-4ae5-8df3-57dc851dfea2",
   "metadata": {},
   "outputs": [],
   "source": [
    "# Import all Stuff (●'◡'●)\n",
    "# Standard imports\n",
    "import numpy as np\n",
    "import pandas as pd\n",
    "import sklearn\n",
    "from sklearn.model_selection import train_test_split\n",
    "import matplotlib.pyplot as plt\n",
    "%matplotlib inline"
   ]
  },
  {
   "cell_type": "markdown",
   "id": "042e4835-db9c-42a1-9fb4-953341f31180",
   "metadata": {},
   "source": [
    "### 1️⃣ Get the data ready 📂\n",
    "Load your dataset, split into X (features) and y (labels/answers)."
   ]
  },
  {
   "cell_type": "code",
   "execution_count": 5,
   "id": "c816f90b-6224-4378-ae80-342524286a0f",
   "metadata": {},
   "outputs": [
    {
     "data": {
      "text/html": [
       "<div>\n",
       "<style scoped>\n",
       "    .dataframe tbody tr th:only-of-type {\n",
       "        vertical-align: middle;\n",
       "    }\n",
       "\n",
       "    .dataframe tbody tr th {\n",
       "        vertical-align: top;\n",
       "    }\n",
       "\n",
       "    .dataframe thead th {\n",
       "        text-align: right;\n",
       "    }\n",
       "</style>\n",
       "<table border=\"1\" class=\"dataframe\">\n",
       "  <thead>\n",
       "    <tr style=\"text-align: right;\">\n",
       "      <th></th>\n",
       "      <th>age</th>\n",
       "      <th>sex</th>\n",
       "      <th>cp</th>\n",
       "      <th>trestbps</th>\n",
       "      <th>chol</th>\n",
       "      <th>fbs</th>\n",
       "      <th>restecg</th>\n",
       "      <th>thalach</th>\n",
       "      <th>exang</th>\n",
       "      <th>oldpeak</th>\n",
       "      <th>slope</th>\n",
       "      <th>ca</th>\n",
       "      <th>thal</th>\n",
       "      <th>target</th>\n",
       "    </tr>\n",
       "  </thead>\n",
       "  <tbody>\n",
       "    <tr>\n",
       "      <th>0</th>\n",
       "      <td>63</td>\n",
       "      <td>1</td>\n",
       "      <td>3</td>\n",
       "      <td>145</td>\n",
       "      <td>233</td>\n",
       "      <td>1</td>\n",
       "      <td>0</td>\n",
       "      <td>150</td>\n",
       "      <td>0</td>\n",
       "      <td>2.3</td>\n",
       "      <td>0</td>\n",
       "      <td>0</td>\n",
       "      <td>1</td>\n",
       "      <td>1</td>\n",
       "    </tr>\n",
       "    <tr>\n",
       "      <th>1</th>\n",
       "      <td>37</td>\n",
       "      <td>1</td>\n",
       "      <td>2</td>\n",
       "      <td>130</td>\n",
       "      <td>250</td>\n",
       "      <td>0</td>\n",
       "      <td>1</td>\n",
       "      <td>187</td>\n",
       "      <td>0</td>\n",
       "      <td>3.5</td>\n",
       "      <td>0</td>\n",
       "      <td>0</td>\n",
       "      <td>2</td>\n",
       "      <td>1</td>\n",
       "    </tr>\n",
       "    <tr>\n",
       "      <th>2</th>\n",
       "      <td>41</td>\n",
       "      <td>0</td>\n",
       "      <td>1</td>\n",
       "      <td>130</td>\n",
       "      <td>204</td>\n",
       "      <td>0</td>\n",
       "      <td>0</td>\n",
       "      <td>172</td>\n",
       "      <td>0</td>\n",
       "      <td>1.4</td>\n",
       "      <td>2</td>\n",
       "      <td>0</td>\n",
       "      <td>2</td>\n",
       "      <td>1</td>\n",
       "    </tr>\n",
       "    <tr>\n",
       "      <th>3</th>\n",
       "      <td>56</td>\n",
       "      <td>1</td>\n",
       "      <td>1</td>\n",
       "      <td>120</td>\n",
       "      <td>236</td>\n",
       "      <td>0</td>\n",
       "      <td>1</td>\n",
       "      <td>178</td>\n",
       "      <td>0</td>\n",
       "      <td>0.8</td>\n",
       "      <td>2</td>\n",
       "      <td>0</td>\n",
       "      <td>2</td>\n",
       "      <td>1</td>\n",
       "    </tr>\n",
       "    <tr>\n",
       "      <th>4</th>\n",
       "      <td>57</td>\n",
       "      <td>0</td>\n",
       "      <td>0</td>\n",
       "      <td>120</td>\n",
       "      <td>354</td>\n",
       "      <td>0</td>\n",
       "      <td>1</td>\n",
       "      <td>163</td>\n",
       "      <td>1</td>\n",
       "      <td>0.6</td>\n",
       "      <td>2</td>\n",
       "      <td>0</td>\n",
       "      <td>2</td>\n",
       "      <td>1</td>\n",
       "    </tr>\n",
       "    <tr>\n",
       "      <th>...</th>\n",
       "      <td>...</td>\n",
       "      <td>...</td>\n",
       "      <td>...</td>\n",
       "      <td>...</td>\n",
       "      <td>...</td>\n",
       "      <td>...</td>\n",
       "      <td>...</td>\n",
       "      <td>...</td>\n",
       "      <td>...</td>\n",
       "      <td>...</td>\n",
       "      <td>...</td>\n",
       "      <td>...</td>\n",
       "      <td>...</td>\n",
       "      <td>...</td>\n",
       "    </tr>\n",
       "    <tr>\n",
       "      <th>298</th>\n",
       "      <td>57</td>\n",
       "      <td>0</td>\n",
       "      <td>0</td>\n",
       "      <td>140</td>\n",
       "      <td>241</td>\n",
       "      <td>0</td>\n",
       "      <td>1</td>\n",
       "      <td>123</td>\n",
       "      <td>1</td>\n",
       "      <td>0.2</td>\n",
       "      <td>1</td>\n",
       "      <td>0</td>\n",
       "      <td>3</td>\n",
       "      <td>0</td>\n",
       "    </tr>\n",
       "    <tr>\n",
       "      <th>299</th>\n",
       "      <td>45</td>\n",
       "      <td>1</td>\n",
       "      <td>3</td>\n",
       "      <td>110</td>\n",
       "      <td>264</td>\n",
       "      <td>0</td>\n",
       "      <td>1</td>\n",
       "      <td>132</td>\n",
       "      <td>0</td>\n",
       "      <td>1.2</td>\n",
       "      <td>1</td>\n",
       "      <td>0</td>\n",
       "      <td>3</td>\n",
       "      <td>0</td>\n",
       "    </tr>\n",
       "    <tr>\n",
       "      <th>300</th>\n",
       "      <td>68</td>\n",
       "      <td>1</td>\n",
       "      <td>0</td>\n",
       "      <td>144</td>\n",
       "      <td>193</td>\n",
       "      <td>1</td>\n",
       "      <td>1</td>\n",
       "      <td>141</td>\n",
       "      <td>0</td>\n",
       "      <td>3.4</td>\n",
       "      <td>1</td>\n",
       "      <td>2</td>\n",
       "      <td>3</td>\n",
       "      <td>0</td>\n",
       "    </tr>\n",
       "    <tr>\n",
       "      <th>301</th>\n",
       "      <td>57</td>\n",
       "      <td>1</td>\n",
       "      <td>0</td>\n",
       "      <td>130</td>\n",
       "      <td>131</td>\n",
       "      <td>0</td>\n",
       "      <td>1</td>\n",
       "      <td>115</td>\n",
       "      <td>1</td>\n",
       "      <td>1.2</td>\n",
       "      <td>1</td>\n",
       "      <td>1</td>\n",
       "      <td>3</td>\n",
       "      <td>0</td>\n",
       "    </tr>\n",
       "    <tr>\n",
       "      <th>302</th>\n",
       "      <td>57</td>\n",
       "      <td>0</td>\n",
       "      <td>1</td>\n",
       "      <td>130</td>\n",
       "      <td>236</td>\n",
       "      <td>0</td>\n",
       "      <td>0</td>\n",
       "      <td>174</td>\n",
       "      <td>0</td>\n",
       "      <td>0.0</td>\n",
       "      <td>1</td>\n",
       "      <td>1</td>\n",
       "      <td>2</td>\n",
       "      <td>0</td>\n",
       "    </tr>\n",
       "  </tbody>\n",
       "</table>\n",
       "<p>303 rows × 14 columns</p>\n",
       "</div>"
      ],
      "text/plain": [
       "     age  sex  cp  trestbps  chol  fbs  restecg  thalach  exang  oldpeak  \\\n",
       "0     63    1   3       145   233    1        0      150      0      2.3   \n",
       "1     37    1   2       130   250    0        1      187      0      3.5   \n",
       "2     41    0   1       130   204    0        0      172      0      1.4   \n",
       "3     56    1   1       120   236    0        1      178      0      0.8   \n",
       "4     57    0   0       120   354    0        1      163      1      0.6   \n",
       "..   ...  ...  ..       ...   ...  ...      ...      ...    ...      ...   \n",
       "298   57    0   0       140   241    0        1      123      1      0.2   \n",
       "299   45    1   3       110   264    0        1      132      0      1.2   \n",
       "300   68    1   0       144   193    1        1      141      0      3.4   \n",
       "301   57    1   0       130   131    0        1      115      1      1.2   \n",
       "302   57    0   1       130   236    0        0      174      0      0.0   \n",
       "\n",
       "     slope  ca  thal  target  \n",
       "0        0   0     1       1  \n",
       "1        0   0     2       1  \n",
       "2        2   0     2       1  \n",
       "3        2   0     2       1  \n",
       "4        2   0     2       1  \n",
       "..     ...  ..   ...     ...  \n",
       "298      1   0     3       0  \n",
       "299      1   0     3       0  \n",
       "300      1   2     3       0  \n",
       "301      1   1     3       0  \n",
       "302      1   1     2       0  \n",
       "\n",
       "[303 rows x 14 columns]"
      ]
     },
     "execution_count": 5,
     "metadata": {},
     "output_type": "execute_result"
    }
   ],
   "source": [
    "heart_disease = pd.read_csv(\"data/heart-disease.csv\")\n",
    "heart_disease"
   ]
  },
  {
   "cell_type": "code",
   "execution_count": 6,
   "id": "86378dae-664d-482e-8b6c-5103c168f047",
   "metadata": {},
   "outputs": [],
   "source": [
    "# Create X (features matrix)\n",
    "X = heart_disease.drop(\"target\" , axis=1)\n",
    "\n",
    "# Create Y (labels matrix)\n",
    "Y = heart_disease[\"target\"]"
   ]
  },
  {
   "cell_type": "markdown",
   "id": "8fb6b099-f71b-4b31-87c6-df7559c4747f",
   "metadata": {},
   "source": [
    "###  2️⃣ Pick the right model 🎯 ✅\n",
    "Choose the algorithm that fits your problem (classification, regression, clustering, etc.)."
   ]
  },
  {
   "cell_type": "code",
   "execution_count": 14,
   "id": "6bb6022a-6845-4c60-87c3-5671eb71ad98",
   "metadata": {},
   "outputs": [],
   "source": [
    "from sklearn.ensemble import RandomForestClassifier\n",
    "clf = RandomForestClassifier(n_estimators=100) # (clf = classification)\n",
    "\n",
    "# We'll keep the default hyperparameters\n",
    "# clf.get_params()"
   ]
  },
  {
   "cell_type": "markdown",
   "id": "61eb75db-d53c-40af-a45e-2ab06a974773",
   "metadata": {},
   "source": [
    "### 3️⃣ Train the model 🏋️‍♂️\n",
    "Feed your X and y to the model so it learns patterns."
   ]
  },
  {
   "cell_type": "code",
   "execution_count": 11,
   "id": "e18093ee-cbae-4930-92b0-46e770692adf",
   "metadata": {},
   "outputs": [],
   "source": [
    "X_train , X_test , Y_train , Y_test = train_test_split(X , Y , test_size=0.2)"
   ]
  },
  {
   "cell_type": "code",
   "execution_count": 16,
   "id": "9b88ee5f-665a-47ed-b10b-c25747bf24ae",
   "metadata": {},
   "outputs": [],
   "source": [
    "clf.fit(X_train , Y_train); # This will Train it 😎"
   ]
  },
  {
   "cell_type": "code",
   "execution_count": 19,
   "id": "88b6a06c-62aa-4f29-abc0-d40060d56254",
   "metadata": {},
   "outputs": [
    {
     "data": {
      "text/plain": [
       "array([1, 1, 0, 1, 1, 1, 1, 1, 0, 0, 1, 1, 1, 1, 1, 1, 1, 1, 1, 1, 1, 1,\n",
       "       1, 0, 1, 0, 0, 1, 0, 0, 0, 0, 0, 1, 1, 1, 1, 0, 1, 1, 1, 1, 1, 0,\n",
       "       0, 1, 1, 0, 0, 1, 0, 0, 1, 1, 1, 0, 0, 0, 1, 1, 0])"
      ]
     },
     "execution_count": 19,
     "metadata": {},
     "output_type": "execute_result"
    }
   ],
   "source": [
    "# Make predictions on the test set\n",
    "Y_preds = clf.predict(X_test)\n",
    "Y_preds"
   ]
  },
  {
   "cell_type": "code",
   "execution_count": 20,
   "id": "6ce5bdd3-43cf-4771-a6ae-7c292a01f1b5",
   "metadata": {},
   "outputs": [
    {
     "name": "stdout",
     "output_type": "stream",
     "text": [
      "Test Accuracy: 0.8852459016393442\n"
     ]
    }
   ],
   "source": [
    "from sklearn.metrics import accuracy_score\n",
    "print(\"Test Accuracy:\", accuracy_score(Y_test, Y_preds))\n"
   ]
  },
  {
   "cell_type": "markdown",
   "id": "a346e737-c64d-4e10-8b82-e813ed32d558",
   "metadata": {},
   "source": [
    "### 4️⃣ Test the model 🧪\n",
    "Check how well it predicts using test data."
   ]
  },
  {
   "cell_type": "code",
   "execution_count": 21,
   "id": "936450e1-6210-42ea-81f8-a302b38b78ea",
   "metadata": {},
   "outputs": [
    {
     "data": {
      "text/plain": [
       "1.0"
      ]
     },
     "execution_count": 21,
     "metadata": {},
     "output_type": "execute_result"
    }
   ],
   "source": [
    "clf.score(X_train , Y_train)"
   ]
  },
  {
   "cell_type": "code",
   "execution_count": 22,
   "id": "1209522b-2d28-4456-ba9a-67aed0e11321",
   "metadata": {},
   "outputs": [
    {
     "data": {
      "text/plain": [
       "0.8852459016393442"
      ]
     },
     "execution_count": 22,
     "metadata": {},
     "output_type": "execute_result"
    }
   ],
   "source": [
    "clf.score(X_test , Y_test)"
   ]
  },
  {
   "cell_type": "code",
   "execution_count": 23,
   "id": "99949dfc-5ad0-4f87-8aed-451a5f6fe621",
   "metadata": {},
   "outputs": [
    {
     "name": "stdout",
     "output_type": "stream",
     "text": [
      "              precision    recall  f1-score   support\n",
      "\n",
      "           0       0.91      0.80      0.85        25\n",
      "           1       0.87      0.94      0.91        36\n",
      "\n",
      "    accuracy                           0.89        61\n",
      "   macro avg       0.89      0.87      0.88        61\n",
      "weighted avg       0.89      0.89      0.88        61\n",
      "\n"
     ]
    }
   ],
   "source": [
    "from sklearn.metrics import classification_report , confusion_matrix , accuracy_score\n",
    "\n",
    "print(classification_report(Y_test , Y_preds))"
   ]
  },
  {
   "cell_type": "markdown",
   "id": "6ec87290-d4c8-4f27-8a7f-c97501e284b6",
   "metadata": {
    "jp-MarkdownHeadingCollapsed": true
   },
   "source": [
    "### 5️⃣ Make it better 🚀\n",
    "Tune settings (hyperparameters), try different algorithms, or get better data."
   ]
  },
  {
   "cell_type": "code",
   "execution_count": 39,
   "id": "21a734e4-1256-4e88-bbaf-4128bffe646a",
   "metadata": {},
   "outputs": [
    {
     "name": "stdout",
     "output_type": "stream",
     "text": [
      "\u001b[1m\u001b[32m10 estimators → 90.16% 🏆\u001b[0m\n",
      "\u001b[1m\u001b[33m20 estimators → 83.61% 📈\u001b[0m\n",
      "\u001b[1m\u001b[32m30 estimators → 90.16% 🏆\u001b[0m\n",
      "\u001b[1m\u001b[33m40 estimators → 88.52% 📈\u001b[0m\n",
      "\u001b[1m\u001b[32m50 estimators → 90.16% 🏆\u001b[0m\n",
      "\u001b[1m\u001b[33m60 estimators → 83.61% 📈\u001b[0m\n",
      "\u001b[1m\u001b[33m70 estimators → 85.25% 📈\u001b[0m\n",
      "\u001b[1m\u001b[33m80 estimators → 88.52% 📈\u001b[0m\n",
      "\u001b[1m\u001b[33m90 estimators → 88.52% 📈\u001b[0m\n",
      "\u001b[4m\u001b[1m\u001b[35m\n",
      "📊 Summary\u001b[0m\n",
      "\u001b[1m\u001b[32m🥇 Highest accuracy: 90.16% → 10, 30, 50 estimators 🏆\u001b[0m\n",
      "\u001b[1m\u001b[33m📈 Mid-range accuracy: 88.52% → 40, 80, 90 estimators 📈\u001b[0m\n",
      "\u001b[1m\u001b[33m📈 Mid-range accuracy: 85.25% → 70 estimators 📈\u001b[0m\n",
      "\u001b[1m\u001b[31m💀 Lowest accuracy: 83.61% → 20, 60 estimators 💀\u001b[0m\n"
     ]
    }
   ],
   "source": [
    "# Try differnt amount of n_estimators\n",
    "\n",
    "import numpy as np\n",
    "from sklearn.ensemble import RandomForestClassifier\n",
    "from termcolor import colored\n",
    "from collections import defaultdict\n",
    "\n",
    "np.random.seed(42)\n",
    "results = []\n",
    "acc_map = defaultdict(list)\n",
    "\n",
    "# Training + logs\n",
    "for i in range(10, 100, 10):\n",
    "    clf = RandomForestClassifier(n_estimators=i).fit(X_train, Y_train)\n",
    "    acc = round(clf.score(X_test, Y_test) * 100, 2)\n",
    "    results.append((i, acc))\n",
    "    \n",
    "    emoji = \"🏆\" if acc >= 90 else \"📈\" if acc >= 80 else \"⚠️\"\n",
    "    color = \"green\" if acc >= 90 else \"yellow\" if acc >= 80 else \"red\"\n",
    "    print(colored(f\"{i} estimators → {acc:.2f}% {emoji}\", color, attrs=[\"bold\"]))\n",
    "    \n",
    "    acc_map[acc].append(i)\n",
    "\n",
    "# Summary\n",
    "print(colored(\"\\n📊 Summary\", \"magenta\", attrs=[\"bold\", \"underline\"]))\n",
    "best_acc = max(acc_map)\n",
    "worst_acc = min(acc_map)\n",
    "\n",
    "for acc, ests in sorted(acc_map.items(), key=lambda x: x[0], reverse=True):\n",
    "    if acc == best_acc:\n",
    "        desc = \"🥇 Highest accuracy\"\n",
    "        color = \"green\"\n",
    "        emoji = \"🏆\"\n",
    "    elif acc == worst_acc:\n",
    "        desc = \"💀 Lowest accuracy\"\n",
    "        color = \"red\"\n",
    "        emoji = \"💀\"\n",
    "    else:\n",
    "        desc = \"📈 Mid-range accuracy\"\n",
    "        color = \"yellow\"\n",
    "        emoji = \"📈\"\n",
    "    print(colored(f\"{desc}: {acc:.2f}% → {', '.join(map(str, ests))} estimators {emoji}\", color, attrs=[\"bold\"]))\n"
   ]
  },
  {
   "cell_type": "markdown",
   "id": "2de7c383-9754-470e-8268-920f7a07599b",
   "metadata": {},
   "source": [
    "### 6️⃣ Save it 💾\n",
    "Store the trained model so you can use it later without retraining."
   ]
  },
  {
   "cell_type": "code",
   "execution_count": 40,
   "id": "3adc4130-0cbd-4320-a362-720b46c2518b",
   "metadata": {},
   "outputs": [],
   "source": [
    "# 6. Save a model and load it ✅\n",
    "import pickle\n",
    "\n",
    "pickle.dump(clf, open(\"practice-heart-disease.pkl\" , \"wb\") ) # Save ✅"
   ]
  },
  {
   "cell_type": "code",
   "execution_count": 42,
   "id": "9a9375b5-4834-40d6-b55a-494704f64cf9",
   "metadata": {},
   "outputs": [
    {
     "data": {
      "text/plain": [
       "0.9672131147540983"
      ]
     },
     "execution_count": 42,
     "metadata": {},
     "output_type": "execute_result"
    }
   ],
   "source": [
    "# Import and use it. 🧠\n",
    "loaded_model = pickle.load(open(\"random_forest_model_1.pkl\" , \"rb\"))\n",
    "loaded_model.score(X_test , Y_test)"
   ]
  },
  {
   "cell_type": "markdown",
   "id": "ee9f26d5-6e9e-45c4-a2b6-e49e66feab74",
   "metadata": {},
   "source": [
    "### ---------------------------------------------------------------THE END-----------------------------------------------------------"
   ]
  },
  {
   "cell_type": "code",
   "execution_count": null,
   "id": "d7df2042-ffb8-46bd-920a-b2fe0c5ba4c0",
   "metadata": {},
   "outputs": [],
   "source": []
  }
 ],
 "metadata": {
  "kernelspec": {
   "display_name": "Python (sample_env)",
   "language": "python",
   "name": "sample_env"
  },
  "language_info": {
   "codemirror_mode": {
    "name": "ipython",
    "version": 3
   },
   "file_extension": ".py",
   "mimetype": "text/x-python",
   "name": "python",
   "nbconvert_exporter": "python",
   "pygments_lexer": "ipython3",
   "version": "3.13.5"
  }
 },
 "nbformat": 4,
 "nbformat_minor": 5
}
